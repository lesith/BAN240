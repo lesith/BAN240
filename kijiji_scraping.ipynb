{
 "cells": [
  {
   "cell_type": "code",
   "id": "initial_id",
   "metadata": {
    "collapsed": true,
    "ExecuteTime": {
     "end_time": "2024-10-07T21:19:50.297385Z",
     "start_time": "2024-10-07T21:19:49.214608Z"
    }
   },
   "source": [
    "# import the necessary libraries\n",
    "import requests\n",
    "import time\n",
    "import pandas as pd\n",
    "from bs4 import BeautifulSoup"
   ],
   "outputs": [],
   "execution_count": 1
  },
  {
   "metadata": {
    "ExecuteTime": {
     "end_time": "2024-10-07T21:20:02.997133Z",
     "start_time": "2024-10-07T21:20:02.988021Z"
    }
   },
   "cell_type": "code",
   "source": [
    "def extract_listing_data(listing):\n",
    "    # Extract the individual elements from each listing\n",
    "    ad_link_element = listing.find('a', {'data-testid': 'listing-link'})\n",
    "    title_element = ad_link_element\n",
    "    price_element = listing.find('p', {'data-testid': 'autos-listing-price'})\n",
    "    description_element = listing.find('p', {'data-testid': 'listing-description'})\n",
    "    mileage_element = listing.find('div', {'data-testid': 'autos-attribute-kilometers'})\n",
    "    transmission_element = listing.find('div', {'data-testid': 'autos-attribute-transmission'})\n",
    "    location_element = listing.find('p', {'data-testid': 'listing-location'})\n",
    "    time_posted_element = listing.find('div', {'class': 'sc-24a49435-12'})  # Adjust class name as necessary\n",
    "\n",
    "    # Populate the dictionary with extracted values for the current listing\n",
    "    extracted_data = {\n",
    "        'ad_link': ad_link_element['href'] if ad_link_element else None,\n",
    "        'title': title_element.text.strip() if title_element else None,\n",
    "        'price': price_element.text.strip() if price_element else None,\n",
    "        'description': description_element.text.strip() if description_element else None,\n",
    "        'mileage': mileage_element.find('p').text.strip() if mileage_element else None,\n",
    "        'transmission': transmission_element.find('p').text.strip() if transmission_element else None,\n",
    "        'location': location_element.text.strip() if location_element else None,\n",
    "        'time_posted': time_posted_element.text.strip() if time_posted_element else None\n",
    "    }\n",
    "\n",
    "    return extracted_data"
   ],
   "id": "3b103652cc10eeac",
   "outputs": [],
   "execution_count": 2
  },
  {
   "metadata": {
    "ExecuteTime": {
     "end_time": "2024-10-07T21:20:06.129354Z",
     "start_time": "2024-10-07T21:20:06.122353Z"
    }
   },
   "cell_type": "code",
   "source": [
    "def scrape_kijiji_cars(base_url, url_suffix, total_pages):\n",
    "    all_data = []\n",
    "\n",
    "    for page_number in range(1, total_pages + 1):\n",
    "        # Construct the URL for the current page\n",
    "        if page_number == 1:\n",
    "            url = f\"{base_url}{url_suffix}\"\n",
    "        else:\n",
    "            url = f\"{base_url}page-{page_number}/{url_suffix}\"\n",
    "\n",
    "        print(f\"Scraping URL: {url}\")\n",
    "\n",
    "        # Make the HTTP request to get the page content\n",
    "        response = requests.get(url)\n",
    "\n",
    "        if response.status_code == 200:\n",
    "            soup = BeautifulSoup(response.text, \"html.parser\")\n",
    "\n",
    "            # Find all elements that contain individual listings\n",
    "            listings = soup.find_all('li', {'data-testid': lambda x: x and x.startswith('listing-card-list-item')})\n",
    "\n",
    "            # Loop through each listing and extract data\n",
    "            for listing in listings:\n",
    "                data = extract_listing_data(listing)\n",
    "                all_data.append(data)\n",
    "\n",
    "        else:\n",
    "            print(f\"Failed to retrieve page {page_number}. Status code: {response.status_code}\")\n",
    "\n",
    "        # Pause for 10 seconds to avoid overwhelming the server\n",
    "        time.sleep(10)\n",
    "\n",
    "    return all_data"
   ],
   "id": "41c24d0da456015d",
   "outputs": [],
   "execution_count": 3
  },
  {
   "metadata": {
    "ExecuteTime": {
     "end_time": "2024-10-07T21:42:30.519735Z",
     "start_time": "2024-10-07T21:20:09.875504Z"
    }
   },
   "cell_type": "code",
   "source": [
    "# base URL for the Kijiji website\n",
    "# base_url = \"https://www.kijiji.ca/b-cars-trucks/canada/electric/\"\n",
    "# url_suffix = \"/c174l0a166?sort=dateDesc\"\n",
    "# page_1_url = base_url + url_suffix\n",
    "# page_2_url = base_url + \"page-2\" + url_suffix\n",
    "# page_n_url = base_url + \"page-n\" + url_suffix\n",
    "\n",
    "base_url = \"https://www.kijiji.ca/b-cars-trucks/canada/electric/\"\n",
    "url_suffix = \"c174l0a166?sort=dateDesc\"\n",
    "total_pages = 108\n",
    "all_listings = scrape_kijiji_cars(base_url, url_suffix, total_pages)"
   ],
   "id": "7b6447d0d87d33ff",
   "outputs": [
    {
     "name": "stdout",
     "output_type": "stream",
     "text": [
      "Scraping URL: https://www.kijiji.ca/b-cars-trucks/canada/electric/c174l0a166?sort=dateDesc\n",
      "Scraping URL: https://www.kijiji.ca/b-cars-trucks/canada/electric/page-2/c174l0a166?sort=dateDesc\n",
      "Scraping URL: https://www.kijiji.ca/b-cars-trucks/canada/electric/page-3/c174l0a166?sort=dateDesc\n",
      "Scraping URL: https://www.kijiji.ca/b-cars-trucks/canada/electric/page-4/c174l0a166?sort=dateDesc\n",
      "Scraping URL: https://www.kijiji.ca/b-cars-trucks/canada/electric/page-5/c174l0a166?sort=dateDesc\n",
      "Scraping URL: https://www.kijiji.ca/b-cars-trucks/canada/electric/page-6/c174l0a166?sort=dateDesc\n",
      "Scraping URL: https://www.kijiji.ca/b-cars-trucks/canada/electric/page-7/c174l0a166?sort=dateDesc\n",
      "Scraping URL: https://www.kijiji.ca/b-cars-trucks/canada/electric/page-8/c174l0a166?sort=dateDesc\n",
      "Scraping URL: https://www.kijiji.ca/b-cars-trucks/canada/electric/page-9/c174l0a166?sort=dateDesc\n",
      "Scraping URL: https://www.kijiji.ca/b-cars-trucks/canada/electric/page-10/c174l0a166?sort=dateDesc\n",
      "Scraping URL: https://www.kijiji.ca/b-cars-trucks/canada/electric/page-11/c174l0a166?sort=dateDesc\n",
      "Scraping URL: https://www.kijiji.ca/b-cars-trucks/canada/electric/page-12/c174l0a166?sort=dateDesc\n",
      "Scraping URL: https://www.kijiji.ca/b-cars-trucks/canada/electric/page-13/c174l0a166?sort=dateDesc\n",
      "Scraping URL: https://www.kijiji.ca/b-cars-trucks/canada/electric/page-14/c174l0a166?sort=dateDesc\n",
      "Scraping URL: https://www.kijiji.ca/b-cars-trucks/canada/electric/page-15/c174l0a166?sort=dateDesc\n",
      "Scraping URL: https://www.kijiji.ca/b-cars-trucks/canada/electric/page-16/c174l0a166?sort=dateDesc\n",
      "Scraping URL: https://www.kijiji.ca/b-cars-trucks/canada/electric/page-17/c174l0a166?sort=dateDesc\n",
      "Scraping URL: https://www.kijiji.ca/b-cars-trucks/canada/electric/page-18/c174l0a166?sort=dateDesc\n",
      "Scraping URL: https://www.kijiji.ca/b-cars-trucks/canada/electric/page-19/c174l0a166?sort=dateDesc\n",
      "Scraping URL: https://www.kijiji.ca/b-cars-trucks/canada/electric/page-20/c174l0a166?sort=dateDesc\n",
      "Scraping URL: https://www.kijiji.ca/b-cars-trucks/canada/electric/page-21/c174l0a166?sort=dateDesc\n",
      "Scraping URL: https://www.kijiji.ca/b-cars-trucks/canada/electric/page-22/c174l0a166?sort=dateDesc\n",
      "Scraping URL: https://www.kijiji.ca/b-cars-trucks/canada/electric/page-23/c174l0a166?sort=dateDesc\n",
      "Scraping URL: https://www.kijiji.ca/b-cars-trucks/canada/electric/page-24/c174l0a166?sort=dateDesc\n",
      "Scraping URL: https://www.kijiji.ca/b-cars-trucks/canada/electric/page-25/c174l0a166?sort=dateDesc\n",
      "Scraping URL: https://www.kijiji.ca/b-cars-trucks/canada/electric/page-26/c174l0a166?sort=dateDesc\n",
      "Scraping URL: https://www.kijiji.ca/b-cars-trucks/canada/electric/page-27/c174l0a166?sort=dateDesc\n",
      "Scraping URL: https://www.kijiji.ca/b-cars-trucks/canada/electric/page-28/c174l0a166?sort=dateDesc\n",
      "Scraping URL: https://www.kijiji.ca/b-cars-trucks/canada/electric/page-29/c174l0a166?sort=dateDesc\n",
      "Scraping URL: https://www.kijiji.ca/b-cars-trucks/canada/electric/page-30/c174l0a166?sort=dateDesc\n",
      "Scraping URL: https://www.kijiji.ca/b-cars-trucks/canada/electric/page-31/c174l0a166?sort=dateDesc\n",
      "Scraping URL: https://www.kijiji.ca/b-cars-trucks/canada/electric/page-32/c174l0a166?sort=dateDesc\n",
      "Scraping URL: https://www.kijiji.ca/b-cars-trucks/canada/electric/page-33/c174l0a166?sort=dateDesc\n",
      "Scraping URL: https://www.kijiji.ca/b-cars-trucks/canada/electric/page-34/c174l0a166?sort=dateDesc\n",
      "Scraping URL: https://www.kijiji.ca/b-cars-trucks/canada/electric/page-35/c174l0a166?sort=dateDesc\n",
      "Scraping URL: https://www.kijiji.ca/b-cars-trucks/canada/electric/page-36/c174l0a166?sort=dateDesc\n",
      "Scraping URL: https://www.kijiji.ca/b-cars-trucks/canada/electric/page-37/c174l0a166?sort=dateDesc\n",
      "Scraping URL: https://www.kijiji.ca/b-cars-trucks/canada/electric/page-38/c174l0a166?sort=dateDesc\n",
      "Scraping URL: https://www.kijiji.ca/b-cars-trucks/canada/electric/page-39/c174l0a166?sort=dateDesc\n",
      "Scraping URL: https://www.kijiji.ca/b-cars-trucks/canada/electric/page-40/c174l0a166?sort=dateDesc\n",
      "Scraping URL: https://www.kijiji.ca/b-cars-trucks/canada/electric/page-41/c174l0a166?sort=dateDesc\n",
      "Scraping URL: https://www.kijiji.ca/b-cars-trucks/canada/electric/page-42/c174l0a166?sort=dateDesc\n",
      "Scraping URL: https://www.kijiji.ca/b-cars-trucks/canada/electric/page-43/c174l0a166?sort=dateDesc\n",
      "Scraping URL: https://www.kijiji.ca/b-cars-trucks/canada/electric/page-44/c174l0a166?sort=dateDesc\n",
      "Scraping URL: https://www.kijiji.ca/b-cars-trucks/canada/electric/page-45/c174l0a166?sort=dateDesc\n",
      "Scraping URL: https://www.kijiji.ca/b-cars-trucks/canada/electric/page-46/c174l0a166?sort=dateDesc\n",
      "Scraping URL: https://www.kijiji.ca/b-cars-trucks/canada/electric/page-47/c174l0a166?sort=dateDesc\n",
      "Scraping URL: https://www.kijiji.ca/b-cars-trucks/canada/electric/page-48/c174l0a166?sort=dateDesc\n",
      "Scraping URL: https://www.kijiji.ca/b-cars-trucks/canada/electric/page-49/c174l0a166?sort=dateDesc\n",
      "Scraping URL: https://www.kijiji.ca/b-cars-trucks/canada/electric/page-50/c174l0a166?sort=dateDesc\n",
      "Scraping URL: https://www.kijiji.ca/b-cars-trucks/canada/electric/page-51/c174l0a166?sort=dateDesc\n",
      "Scraping URL: https://www.kijiji.ca/b-cars-trucks/canada/electric/page-52/c174l0a166?sort=dateDesc\n",
      "Scraping URL: https://www.kijiji.ca/b-cars-trucks/canada/electric/page-53/c174l0a166?sort=dateDesc\n",
      "Scraping URL: https://www.kijiji.ca/b-cars-trucks/canada/electric/page-54/c174l0a166?sort=dateDesc\n",
      "Scraping URL: https://www.kijiji.ca/b-cars-trucks/canada/electric/page-55/c174l0a166?sort=dateDesc\n",
      "Scraping URL: https://www.kijiji.ca/b-cars-trucks/canada/electric/page-56/c174l0a166?sort=dateDesc\n",
      "Scraping URL: https://www.kijiji.ca/b-cars-trucks/canada/electric/page-57/c174l0a166?sort=dateDesc\n",
      "Scraping URL: https://www.kijiji.ca/b-cars-trucks/canada/electric/page-58/c174l0a166?sort=dateDesc\n",
      "Scraping URL: https://www.kijiji.ca/b-cars-trucks/canada/electric/page-59/c174l0a166?sort=dateDesc\n",
      "Scraping URL: https://www.kijiji.ca/b-cars-trucks/canada/electric/page-60/c174l0a166?sort=dateDesc\n",
      "Scraping URL: https://www.kijiji.ca/b-cars-trucks/canada/electric/page-61/c174l0a166?sort=dateDesc\n",
      "Scraping URL: https://www.kijiji.ca/b-cars-trucks/canada/electric/page-62/c174l0a166?sort=dateDesc\n",
      "Scraping URL: https://www.kijiji.ca/b-cars-trucks/canada/electric/page-63/c174l0a166?sort=dateDesc\n",
      "Scraping URL: https://www.kijiji.ca/b-cars-trucks/canada/electric/page-64/c174l0a166?sort=dateDesc\n",
      "Scraping URL: https://www.kijiji.ca/b-cars-trucks/canada/electric/page-65/c174l0a166?sort=dateDesc\n",
      "Scraping URL: https://www.kijiji.ca/b-cars-trucks/canada/electric/page-66/c174l0a166?sort=dateDesc\n",
      "Scraping URL: https://www.kijiji.ca/b-cars-trucks/canada/electric/page-67/c174l0a166?sort=dateDesc\n",
      "Scraping URL: https://www.kijiji.ca/b-cars-trucks/canada/electric/page-68/c174l0a166?sort=dateDesc\n",
      "Scraping URL: https://www.kijiji.ca/b-cars-trucks/canada/electric/page-69/c174l0a166?sort=dateDesc\n",
      "Scraping URL: https://www.kijiji.ca/b-cars-trucks/canada/electric/page-70/c174l0a166?sort=dateDesc\n",
      "Scraping URL: https://www.kijiji.ca/b-cars-trucks/canada/electric/page-71/c174l0a166?sort=dateDesc\n",
      "Scraping URL: https://www.kijiji.ca/b-cars-trucks/canada/electric/page-72/c174l0a166?sort=dateDesc\n",
      "Scraping URL: https://www.kijiji.ca/b-cars-trucks/canada/electric/page-73/c174l0a166?sort=dateDesc\n",
      "Scraping URL: https://www.kijiji.ca/b-cars-trucks/canada/electric/page-74/c174l0a166?sort=dateDesc\n",
      "Scraping URL: https://www.kijiji.ca/b-cars-trucks/canada/electric/page-75/c174l0a166?sort=dateDesc\n",
      "Scraping URL: https://www.kijiji.ca/b-cars-trucks/canada/electric/page-76/c174l0a166?sort=dateDesc\n",
      "Scraping URL: https://www.kijiji.ca/b-cars-trucks/canada/electric/page-77/c174l0a166?sort=dateDesc\n",
      "Scraping URL: https://www.kijiji.ca/b-cars-trucks/canada/electric/page-78/c174l0a166?sort=dateDesc\n",
      "Scraping URL: https://www.kijiji.ca/b-cars-trucks/canada/electric/page-79/c174l0a166?sort=dateDesc\n",
      "Scraping URL: https://www.kijiji.ca/b-cars-trucks/canada/electric/page-80/c174l0a166?sort=dateDesc\n",
      "Scraping URL: https://www.kijiji.ca/b-cars-trucks/canada/electric/page-81/c174l0a166?sort=dateDesc\n",
      "Scraping URL: https://www.kijiji.ca/b-cars-trucks/canada/electric/page-82/c174l0a166?sort=dateDesc\n",
      "Scraping URL: https://www.kijiji.ca/b-cars-trucks/canada/electric/page-83/c174l0a166?sort=dateDesc\n",
      "Scraping URL: https://www.kijiji.ca/b-cars-trucks/canada/electric/page-84/c174l0a166?sort=dateDesc\n",
      "Scraping URL: https://www.kijiji.ca/b-cars-trucks/canada/electric/page-85/c174l0a166?sort=dateDesc\n",
      "Scraping URL: https://www.kijiji.ca/b-cars-trucks/canada/electric/page-86/c174l0a166?sort=dateDesc\n",
      "Scraping URL: https://www.kijiji.ca/b-cars-trucks/canada/electric/page-87/c174l0a166?sort=dateDesc\n",
      "Scraping URL: https://www.kijiji.ca/b-cars-trucks/canada/electric/page-88/c174l0a166?sort=dateDesc\n",
      "Scraping URL: https://www.kijiji.ca/b-cars-trucks/canada/electric/page-89/c174l0a166?sort=dateDesc\n",
      "Scraping URL: https://www.kijiji.ca/b-cars-trucks/canada/electric/page-90/c174l0a166?sort=dateDesc\n",
      "Scraping URL: https://www.kijiji.ca/b-cars-trucks/canada/electric/page-91/c174l0a166?sort=dateDesc\n",
      "Scraping URL: https://www.kijiji.ca/b-cars-trucks/canada/electric/page-92/c174l0a166?sort=dateDesc\n",
      "Scraping URL: https://www.kijiji.ca/b-cars-trucks/canada/electric/page-93/c174l0a166?sort=dateDesc\n",
      "Scraping URL: https://www.kijiji.ca/b-cars-trucks/canada/electric/page-94/c174l0a166?sort=dateDesc\n",
      "Scraping URL: https://www.kijiji.ca/b-cars-trucks/canada/electric/page-95/c174l0a166?sort=dateDesc\n",
      "Scraping URL: https://www.kijiji.ca/b-cars-trucks/canada/electric/page-96/c174l0a166?sort=dateDesc\n",
      "Scraping URL: https://www.kijiji.ca/b-cars-trucks/canada/electric/page-97/c174l0a166?sort=dateDesc\n",
      "Scraping URL: https://www.kijiji.ca/b-cars-trucks/canada/electric/page-98/c174l0a166?sort=dateDesc\n",
      "Scraping URL: https://www.kijiji.ca/b-cars-trucks/canada/electric/page-99/c174l0a166?sort=dateDesc\n",
      "Scraping URL: https://www.kijiji.ca/b-cars-trucks/canada/electric/page-100/c174l0a166?sort=dateDesc\n",
      "Scraping URL: https://www.kijiji.ca/b-cars-trucks/canada/electric/page-101/c174l0a166?sort=dateDesc\n",
      "Scraping URL: https://www.kijiji.ca/b-cars-trucks/canada/electric/page-102/c174l0a166?sort=dateDesc\n",
      "Scraping URL: https://www.kijiji.ca/b-cars-trucks/canada/electric/page-103/c174l0a166?sort=dateDesc\n",
      "Scraping URL: https://www.kijiji.ca/b-cars-trucks/canada/electric/page-104/c174l0a166?sort=dateDesc\n",
      "Scraping URL: https://www.kijiji.ca/b-cars-trucks/canada/electric/page-105/c174l0a166?sort=dateDesc\n",
      "Scraping URL: https://www.kijiji.ca/b-cars-trucks/canada/electric/page-106/c174l0a166?sort=dateDesc\n",
      "Scraping URL: https://www.kijiji.ca/b-cars-trucks/canada/electric/page-107/c174l0a166?sort=dateDesc\n",
      "Scraping URL: https://www.kijiji.ca/b-cars-trucks/canada/electric/page-108/c174l0a166?sort=dateDesc\n"
     ]
    }
   ],
   "execution_count": 4
  },
  {
   "metadata": {
    "ExecuteTime": {
     "end_time": "2024-10-07T21:45:05.207846Z",
     "start_time": "2024-10-07T21:45:04.924463Z"
    }
   },
   "cell_type": "code",
   "source": [
    "# Print or process all the data\n",
    "df = pd.DataFrame(all_listings)\n",
    "df"
   ],
   "id": "dae6f6c4ef5ec29d",
   "outputs": [
    {
     "ename": "NameError",
     "evalue": "name 'pd' is not defined",
     "output_type": "error",
     "traceback": [
      "\u001B[0;31m---------------------------------------------------------------------------\u001B[0m",
      "\u001B[0;31mNameError\u001B[0m                                 Traceback (most recent call last)",
      "Cell \u001B[0;32mIn[1], line 2\u001B[0m\n\u001B[1;32m      1\u001B[0m \u001B[38;5;66;03m# Print or process all the data\u001B[39;00m\n\u001B[0;32m----> 2\u001B[0m df \u001B[38;5;241m=\u001B[39m \u001B[43mpd\u001B[49m\u001B[38;5;241m.\u001B[39mDataFrame(all_listings)\n\u001B[1;32m      3\u001B[0m df\n",
      "\u001B[0;31mNameError\u001B[0m: name 'pd' is not defined"
     ]
    }
   ],
   "execution_count": 1
  },
  {
   "metadata": {
    "ExecuteTime": {
     "end_time": "2024-10-07T21:42:43.183393Z",
     "start_time": "2024-10-07T21:42:43.095863Z"
    }
   },
   "cell_type": "code",
   "source": [
    "csv_file_path = 'kijiji_electric_car_listings.csv'\n",
    "df.to_csv(csv_file_path, index=False)"
   ],
   "id": "b7fff9ed34674287",
   "outputs": [],
   "execution_count": 7
  }
 ],
 "metadata": {
  "kernelspec": {
   "display_name": "Python 3",
   "language": "python",
   "name": "python3"
  },
  "language_info": {
   "codemirror_mode": {
    "name": "ipython",
    "version": 2
   },
   "file_extension": ".py",
   "mimetype": "text/x-python",
   "name": "python",
   "nbconvert_exporter": "python",
   "pygments_lexer": "ipython2",
   "version": "2.7.6"
  }
 },
 "nbformat": 4,
 "nbformat_minor": 5
}
