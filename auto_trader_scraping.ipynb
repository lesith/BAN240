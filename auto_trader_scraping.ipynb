{
 "cells": [
  {
   "cell_type": "code",
   "id": "initial_id",
   "metadata": {
    "collapsed": true,
    "ExecuteTime": {
     "end_time": "2024-10-07T22:22:58.434255Z",
     "start_time": "2024-10-07T22:22:58.412064Z"
    }
   },
   "source": [
    "import requests\n",
    "from bs4 import BeautifulSoup\n",
    "import pandas as pd\n",
    "import time"
   ],
   "outputs": [],
   "execution_count": 14
  },
  {
   "metadata": {
    "ExecuteTime": {
     "end_time": "2024-10-07T22:22:59.871126Z",
     "start_time": "2024-10-07T22:22:59.855677Z"
    }
   },
   "cell_type": "code",
   "source": [
    "def extract_listing_data_autotrader(listing):\n",
    "    # Extract the individual elements from each listing based on AutoTrader's structure\n",
    "    ad_link_element = listing.find('a', {'class': 'inner-link'})\n",
    "    title_element = listing.find('span', {'class': 'title-with-trim'})\n",
    "    price_element = listing.find('span', {'class': 'price-amount'})\n",
    "    mileage_element = listing.find('span', {'class': 'odometer-proximity'})\n",
    "    location_element = listing.find('span', {'class': 'proximity-text'})\n",
    "    dealer_element = listing.find('div', {'class': 'seller-name'})\n",
    "\n",
    "    # Extract the description if available\n",
    "    description_element = listing.find('p', {'class': 'details used'})  # This may need adjustment if not matching\n",
    "\n",
    "    # Populate the dictionary with extracted values for the current listing\n",
    "    extracted_data = {\n",
    "        'ad_link': 'https://www.autotrader.ca' + ad_link_element['href'] if ad_link_element else None,\n",
    "        'title': title_element.text.strip() if title_element else None,\n",
    "        'price': price_element.text.strip() if price_element else None,\n",
    "        'description': description_element.text.strip() if description_element else None,\n",
    "        'mileage': mileage_element.text.strip() if mileage_element else None,\n",
    "        'location': location_element.text.strip() if location_element else None,\n",
    "        'dealer': dealer_element.text.strip() if dealer_element else None,\n",
    "    }\n",
    "\n",
    "    return extracted_data"
   ],
   "id": "ae0b9ac766ad51bc",
   "outputs": [],
   "execution_count": 15
  },
  {
   "metadata": {
    "ExecuteTime": {
     "end_time": "2024-10-07T22:23:03.347147Z",
     "start_time": "2024-10-07T22:23:03.322054Z"
    }
   },
   "cell_type": "code",
   "source": [
    "def scrape_autotrader_cars(base_url, total_pages, results_per_page):\n",
    "    all_data = []\n",
    "    session = requests.Session()\n",
    "\n",
    "    # Define headers to better simulate a browser request\n",
    "    headers = {\n",
    "        'User-Agent': 'Mozilla/5.0 (Windows NT 10.0; Win64; x64; rv:91.0) Gecko/20100101 Firefox/91.0',\n",
    "        'Accept': 'text/html,application/xhtml+xml,application/xml;q=0.9,image/webp,*/*;q=0.8',\n",
    "        'Accept-Language': 'en-US,en;q=0.5',\n",
    "        'Accept-Encoding': 'gzip, deflate, br',\n",
    "        'Connection': 'keep-alive',\n",
    "        'Referer': 'https://www.autotrader.ca/',\n",
    "        'Upgrade-Insecure-Requests': '1',\n",
    "        'DNT': '1',  # Do Not Track request header\n",
    "        'Pragma': 'no-cache',\n",
    "        'Cache-Control': 'no-cache',\n",
    "    }\n",
    "\n",
    "    for page_number in range(total_pages):\n",
    "        offset = page_number * results_per_page\n",
    "        url = f\"{base_url}&rcs={offset}\"\n",
    "        print(f\"Scraping URL: {url}\")\n",
    "\n",
    "        # Make the HTTP request with headers and session to maintain cookies\n",
    "        response = session.get(url, headers=headers)\n",
    "\n",
    "        if response.status_code == 200:\n",
    "            soup = BeautifulSoup(response.text, \"html.parser\")\n",
    "\n",
    "            # Find all elements that contain individual listings\n",
    "            listings = soup.find_all('div', {'class': 'dealer-split-wrapper'})\n",
    "\n",
    "            # Loop through each listing and extract data\n",
    "            for listing in listings:\n",
    "                data = extract_listing_data_autotrader(listing)\n",
    "                all_data.append(data)\n",
    "\n",
    "        else:\n",
    "            print(f\"Failed to retrieve page {page_number + 1}. Status code: {response.status_code}\")\n",
    "\n",
    "        # Pause for 10 seconds to avoid overwhelming the server\n",
    "        time.sleep(10)\n",
    "\n",
    "    # Convert the list of dictionaries to a pandas DataFrame\n",
    "    df = pd.DataFrame(all_data)\n",
    "\n",
    "    # Save the DataFrame to a CSV file\n",
    "    csv_file_path = 'autotrader_car_listings.csv'\n",
    "    df.to_csv(csv_file_path, index=False)\n",
    "\n",
    "    return csv_file_path"
   ],
   "id": "eb061d63d52972d0",
   "outputs": [],
   "execution_count": 16
  },
  {
   "metadata": {
    "ExecuteTime": {
     "end_time": "2024-10-07T22:23:18.349755Z",
     "start_time": "2024-10-07T22:23:07.425223Z"
    }
   },
   "cell_type": "code",
   "source": [
    "# usage\n",
    "base_url = \"https://www.autotrader.ca/cars/?rcp=15&rcs=0&srt=35&prx=-1&loc=l4e%204z6&fuel=Electric&hprc=True&wcp=True&inMarket=advancedSearch\"\n",
    "total_pages = 1  # Test with a smaller number first\n",
    "results_per_page = 15\n",
    "csv_path = scrape_autotrader_cars(base_url, total_pages, results_per_page)\n",
    "csv_path"
   ],
   "id": "4bb2929d741749da",
   "outputs": [
    {
     "name": "stdout",
     "output_type": "stream",
     "text": [
      "Scraping URL: https://www.autotrader.ca/cars/?rcp=15&rcs=0&srt=35&prx=-1&loc=l4e%204z6&fuel=Electric&hprc=True&wcp=True&inMarket=advancedSearch&rcs=0\n"
     ]
    },
    {
     "data": {
      "text/plain": [
       "'autotrader_car_listings.csv'"
      ]
     },
     "execution_count": 17,
     "metadata": {},
     "output_type": "execute_result"
    }
   ],
   "execution_count": 17
  }
 ],
 "metadata": {
  "kernelspec": {
   "display_name": "Python 3",
   "language": "python",
   "name": "python3"
  },
  "language_info": {
   "codemirror_mode": {
    "name": "ipython",
    "version": 2
   },
   "file_extension": ".py",
   "mimetype": "text/x-python",
   "name": "python",
   "nbconvert_exporter": "python",
   "pygments_lexer": "ipython2",
   "version": "2.7.6"
  }
 },
 "nbformat": 4,
 "nbformat_minor": 5
}
