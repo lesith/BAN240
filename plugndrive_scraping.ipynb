{
 "cells": [
  {
   "cell_type": "code",
   "id": "initial_id",
   "metadata": {
    "collapsed": true,
    "ExecuteTime": {
     "end_time": "2024-11-19T16:51:15.499206Z",
     "start_time": "2024-11-19T16:51:15.482648Z"
    }
   },
   "source": [
    "import requests\n",
    "from bs4 import BeautifulSoup\n",
    "import pandas as pd\n",
    "import time"
   ],
   "outputs": [],
   "execution_count": 28
  },
  {
   "metadata": {
    "ExecuteTime": {
     "end_time": "2024-11-19T16:51:56.812333Z",
     "start_time": "2024-11-19T16:51:56.720319Z"
    }
   },
   "cell_type": "code",
   "source": [
    "# Part 1: Fetch the content of the page\n",
    "base_url = \"https://ev.plugndrive.ca/vehicles\"\n",
    "response = requests.get(base_url)"
   ],
   "id": "997526012abc5859",
   "outputs": [],
   "execution_count": 33
  },
  {
   "metadata": {
    "ExecuteTime": {
     "end_time": "2024-11-19T17:24:24.788246Z",
     "start_time": "2024-11-19T17:24:24.739639Z"
    }
   },
   "cell_type": "code",
   "source": [
    "# Save the response object to be used in Jupyter notebook\n",
    "with open(\"response.html\", \"w\", encoding=\"utf-8\") as file:\n",
    "    file.write(response.text)"
   ],
   "id": "bc81ab4474822d4f",
   "outputs": [],
   "execution_count": 51
  },
  {
   "metadata": {
    "ExecuteTime": {
     "end_time": "2024-11-19T17:24:26.029478Z",
     "start_time": "2024-11-19T17:24:25.992729Z"
    }
   },
   "cell_type": "code",
   "source": "response.text",
   "id": "d8a476810ae41243",
   "outputs": [
    {
     "data": {
      "text/plain": [
       "'<!doctype html><html lang=\"en\"><head><meta http-equiv=\"X-UA-Compatible\" content=\"IE=edge\"/><link href=\"https://fonts.googleapis.com/css2?family=Titillium+Web:wght@300;400;600;700&display=swap\" rel=\"stylesheet\"><meta property=\"og:description\" content=\"PlugNDrive\\'s guide to electric vehicles, including incentives and charging stations.\"/><link rel=\"manifest\" href=\"/manifest.json\"/><title>PlugNDrive EV Buyers Guide</title><link href=\"/static/css/2.bdbc5ff3.chunk.css\" rel=\"stylesheet\"><link href=\"/static/css/main.e747bc37.chunk.css\" rel=\"stylesheet\"></head><body><noscript>You need to enable JavaScript to run this app.</noscript><div id=\"root\"></div><script>!function(l){function e(e){for(var r,t,n=e[0],o=e[1],u=e[2],f=0,i=[];f<n.length;f++)t=n[f],p[t]&&i.push(p[t][0]),p[t]=0;for(r in o)Object.prototype.hasOwnProperty.call(o,r)&&(l[r]=o[r]);for(s&&s(e);i.length;)i.shift()();return c.push.apply(c,u||[]),a()}function a(){for(var e,r=0;r<c.length;r++){for(var t=c[r],n=!0,o=1;o<t.length;o++){var u=t[o];0!==p[u]&&(n=!1)}n&&(c.splice(r--,1),e=f(f.s=t[0]))}return e}var t={},p={1:0},c=[];function f(e){if(t[e])return t[e].exports;var r=t[e]={i:e,l:!1,exports:{}};return l[e].call(r.exports,r,r.exports,f),r.l=!0,r.exports}f.m=l,f.c=t,f.d=function(e,r,t){f.o(e,r)||Object.defineProperty(e,r,{enumerable:!0,get:t})},f.r=function(e){\"undefined\"!=typeof Symbol&&Symbol.toStringTag&&Object.defineProperty(e,Symbol.toStringTag,{value:\"Module\"}),Object.defineProperty(e,\"__esModule\",{value:!0})},f.t=function(r,e){if(1&e&&(r=f(r)),8&e)return r;if(4&e&&\"object\"==typeof r&&r&&r.__esModule)return r;var t=Object.create(null);if(f.r(t),Object.defineProperty(t,\"default\",{enumerable:!0,value:r}),2&e&&\"string\"!=typeof r)for(var n in r)f.d(t,n,function(e){return r[e]}.bind(null,n));return t},f.n=function(e){var r=e&&e.__esModule?function(){return e.default}:function(){return e};return f.d(r,\"a\",r),r},f.o=function(e,r){return Object.prototype.hasOwnProperty.call(e,r)},f.p=\"/\";var r=window.webpackJsonp=window.webpackJsonp||[],n=r.push.bind(r);r.push=e,r=r.slice();for(var o=0;o<r.length;o++)e(r[o]);var s=n;a()}([])</script><script src=\"/static/js/2.9fa5fe35.chunk.js\"></script><script src=\"/static/js/main.a2dd7c33.chunk.js\"></script></body></html>'"
      ]
     },
     "execution_count": 52,
     "metadata": {},
     "output_type": "execute_result"
    }
   ],
   "execution_count": 52
  },
  {
   "metadata": {
    "ExecuteTime": {
     "end_time": "2024-11-19T16:52:33.646935Z",
     "start_time": "2024-11-19T16:52:33.626214Z"
    }
   },
   "cell_type": "code",
   "source": [
    "# Part 2: Parsing and extracting data (to be run in Jupyter Notebook)\n",
    "# Load the saved HTML content\n",
    "with open(\"response.html\", \"r\", encoding=\"utf-8\") as file:\n",
    "    html_content = file.read()"
   ],
   "id": "26d2a1e16a6247c4",
   "outputs": [],
   "execution_count": 36
  },
  {
   "metadata": {
    "ExecuteTime": {
     "end_time": "2024-11-19T16:52:35.003054Z",
     "start_time": "2024-11-19T16:52:34.983049Z"
    }
   },
   "cell_type": "code",
   "source": "html_content",
   "id": "f3cb532e91246432",
   "outputs": [
    {
     "data": {
      "text/plain": [
       "'<!doctype html><html lang=\"en\"><head><meta http-equiv=\"X-UA-Compatible\" content=\"IE=edge\"/><link href=\"https://fonts.googleapis.com/css2?family=Titillium+Web:wght@300;400;600;700&display=swap\" rel=\"stylesheet\"><meta property=\"og:description\" content=\"PlugNDrive\\'s guide to electric vehicles, including incentives and charging stations.\"/><link rel=\"manifest\" href=\"/manifest.json\"/><title>PlugNDrive EV Buyers Guide</title><link href=\"/static/css/2.bdbc5ff3.chunk.css\" rel=\"stylesheet\"><link href=\"/static/css/main.e747bc37.chunk.css\" rel=\"stylesheet\"></head><body><noscript>You need to enable JavaScript to run this app.</noscript><div id=\"root\"></div><script>!function(l){function e(e){for(var r,t,n=e[0],o=e[1],u=e[2],f=0,i=[];f<n.length;f++)t=n[f],p[t]&&i.push(p[t][0]),p[t]=0;for(r in o)Object.prototype.hasOwnProperty.call(o,r)&&(l[r]=o[r]);for(s&&s(e);i.length;)i.shift()();return c.push.apply(c,u||[]),a()}function a(){for(var e,r=0;r<c.length;r++){for(var t=c[r],n=!0,o=1;o<t.length;o++){var u=t[o];0!==p[u]&&(n=!1)}n&&(c.splice(r--,1),e=f(f.s=t[0]))}return e}var t={},p={1:0},c=[];function f(e){if(t[e])return t[e].exports;var r=t[e]={i:e,l:!1,exports:{}};return l[e].call(r.exports,r,r.exports,f),r.l=!0,r.exports}f.m=l,f.c=t,f.d=function(e,r,t){f.o(e,r)||Object.defineProperty(e,r,{enumerable:!0,get:t})},f.r=function(e){\"undefined\"!=typeof Symbol&&Symbol.toStringTag&&Object.defineProperty(e,Symbol.toStringTag,{value:\"Module\"}),Object.defineProperty(e,\"__esModule\",{value:!0})},f.t=function(r,e){if(1&e&&(r=f(r)),8&e)return r;if(4&e&&\"object\"==typeof r&&r&&r.__esModule)return r;var t=Object.create(null);if(f.r(t),Object.defineProperty(t,\"default\",{enumerable:!0,value:r}),2&e&&\"string\"!=typeof r)for(var n in r)f.d(t,n,function(e){return r[e]}.bind(null,n));return t},f.n=function(e){var r=e&&e.__esModule?function(){return e.default}:function(){return e};return f.d(r,\"a\",r),r},f.o=function(e,r){return Object.prototype.hasOwnProperty.call(e,r)},f.p=\"/\";var r=window.webpackJsonp=window.webpackJsonp||[],n=r.push.bind(r);r.push=e,r=r.slice();for(var o=0;o<r.length;o++)e(r[o]);var s=n;a()}([])</script><script src=\"/static/js/2.9fa5fe35.chunk.js\"></script><script src=\"/static/js/main.a2dd7c33.chunk.js\"></script></body></html>'"
      ]
     },
     "execution_count": 37,
     "metadata": {},
     "output_type": "execute_result"
    }
   ],
   "execution_count": 37
  },
  {
   "metadata": {
    "ExecuteTime": {
     "end_time": "2024-11-19T16:52:52.431416Z",
     "start_time": "2024-11-19T16:52:52.412760Z"
    }
   },
   "cell_type": "code",
   "source": [
    "# Parse the HTML content using BeautifulSoup\n",
    "soup = BeautifulSoup(html_content, 'html.parser')"
   ],
   "id": "58fb6ed77829767f",
   "outputs": [],
   "execution_count": 38
  },
  {
   "metadata": {
    "ExecuteTime": {
     "end_time": "2024-11-19T16:52:54.063651Z",
     "start_time": "2024-11-19T16:52:54.054389Z"
    }
   },
   "cell_type": "code",
   "source": "soup",
   "id": "7f7734aaf119cc5b",
   "outputs": [
    {
     "data": {
      "text/plain": [
       "<!DOCTYPE html>\n",
       "<html lang=\"en\"><head><meta content=\"IE=edge\" http-equiv=\"X-UA-Compatible\"/><link href=\"https://fonts.googleapis.com/css2?family=Titillium+Web:wght@300;400;600;700&amp;display=swap\" rel=\"stylesheet\"/><meta content=\"PlugNDrive's guide to electric vehicles, including incentives and charging stations.\" property=\"og:description\"/><link href=\"/manifest.json\" rel=\"manifest\"><title>PlugNDrive EV Buyers Guide</title><link href=\"/static/css/2.bdbc5ff3.chunk.css\" rel=\"stylesheet\"/><link href=\"/static/css/main.e747bc37.chunk.css\" rel=\"stylesheet\"/></link></head><body><noscript>You need to enable JavaScript to run this app.</noscript><div id=\"root\"></div><script>!function(l){function e(e){for(var r,t,n=e[0],o=e[1],u=e[2],f=0,i=[];f<n.length;f++)t=n[f],p[t]&&i.push(p[t][0]),p[t]=0;for(r in o)Object.prototype.hasOwnProperty.call(o,r)&&(l[r]=o[r]);for(s&&s(e);i.length;)i.shift()();return c.push.apply(c,u||[]),a()}function a(){for(var e,r=0;r<c.length;r++){for(var t=c[r],n=!0,o=1;o<t.length;o++){var u=t[o];0!==p[u]&&(n=!1)}n&&(c.splice(r--,1),e=f(f.s=t[0]))}return e}var t={},p={1:0},c=[];function f(e){if(t[e])return t[e].exports;var r=t[e]={i:e,l:!1,exports:{}};return l[e].call(r.exports,r,r.exports,f),r.l=!0,r.exports}f.m=l,f.c=t,f.d=function(e,r,t){f.o(e,r)||Object.defineProperty(e,r,{enumerable:!0,get:t})},f.r=function(e){\"undefined\"!=typeof Symbol&&Symbol.toStringTag&&Object.defineProperty(e,Symbol.toStringTag,{value:\"Module\"}),Object.defineProperty(e,\"__esModule\",{value:!0})},f.t=function(r,e){if(1&e&&(r=f(r)),8&e)return r;if(4&e&&\"object\"==typeof r&&r&&r.__esModule)return r;var t=Object.create(null);if(f.r(t),Object.defineProperty(t,\"default\",{enumerable:!0,value:r}),2&e&&\"string\"!=typeof r)for(var n in r)f.d(t,n,function(e){return r[e]}.bind(null,n));return t},f.n=function(e){var r=e&&e.__esModule?function(){return e.default}:function(){return e};return f.d(r,\"a\",r),r},f.o=function(e,r){return Object.prototype.hasOwnProperty.call(e,r)},f.p=\"/\";var r=window.webpackJsonp=window.webpackJsonp||[],n=r.push.bind(r);r.push=e,r=r.slice();for(var o=0;o<r.length;o++)e(r[o]);var s=n;a()}([])</script><script src=\"/static/js/2.9fa5fe35.chunk.js\"></script><script src=\"/static/js/main.a2dd7c33.chunk.js\"></script></body></html>"
      ]
     },
     "execution_count": 39,
     "metadata": {},
     "output_type": "execute_result"
    }
   ],
   "execution_count": 39
  },
  {
   "metadata": {
    "ExecuteTime": {
     "end_time": "2024-11-19T16:53:13.513623Z",
     "start_time": "2024-11-19T16:53:13.490048Z"
    }
   },
   "cell_type": "code",
   "source": [
    "# Find all the vehicle cards on the page\n",
    "vehicle_cards = soup.find_all('a', class_='evc-card EVCard')"
   ],
   "id": "7d708881f99ec60d",
   "outputs": [],
   "execution_count": 40
  },
  {
   "metadata": {
    "ExecuteTime": {
     "end_time": "2024-11-19T16:53:14.915112Z",
     "start_time": "2024-11-19T16:53:14.903678Z"
    }
   },
   "cell_type": "code",
   "outputs": [
    {
     "data": {
      "text/plain": [
       "[]"
      ]
     },
     "execution_count": 41,
     "metadata": {},
     "output_type": "execute_result"
    }
   ],
   "execution_count": 41,
   "source": "vehicle_cards",
   "id": "683b19d6d6fd9aa2"
  },
  {
   "metadata": {
    "ExecuteTime": {
     "end_time": "2024-11-19T16:49:55.683085Z",
     "start_time": "2024-11-19T16:49:55.679172Z"
    }
   },
   "cell_type": "code",
   "outputs": [],
   "execution_count": 24,
   "source": [
    "# List to store data for each vehicle\n",
    "vehicles_data = []"
   ],
   "id": "cb0add159dff70bb"
  },
  {
   "metadata": {
    "ExecuteTime": {
     "end_time": "2024-11-19T16:49:57.513869Z",
     "start_time": "2024-11-19T16:49:57.504919Z"
    }
   },
   "cell_type": "code",
   "outputs": [],
   "execution_count": 25,
   "source": [
    "# Loop through the vehicle cards (scrape 10 items at a time)\n",
    "for i, card in enumerate(vehicle_cards):\n",
    "    if i > 0 and i % 10 == 0:\n",
    "        # Pause for 5 seconds after scraping 10 items\n",
    "        time.sleep(5)\n",
    "\n",
    "    # Extract data from the card\n",
    "    href = card['href']\n",
    "    vehicle_url = f\"https://ev.plugndrive.ca{href}\"\n",
    "    make = card.find('p', class_='h2').text.strip()\n",
    "    model_version = card.find('p', class_='h3 mt-1').text.strip()\n",
    "\n",
    "    # Extracting data from the `renderRowOfData` div\n",
    "    render_data = card.find('div', class_='renderRowOfData')\n",
    "    electric_range = render_data.find_all('p')[0].find('span').text.strip() if render_data else 'N/A'\n",
    "    total_range = render_data.find_all('p')[1].find('span').text.strip() if render_data else 'N/A'\n",
    "    incentives = render_data.find_all('p')[2].find('span').text.strip() if render_data else 'N/A'\n",
    "\n",
    "    # Extracting MSRP and Match Score\n",
    "    ev_card_bottom = card.find('div', class_='EVCardBottom')\n",
    "    msrp = ev_card_bottom.find('p', class_='RenderItemValue').text.strip() if ev_card_bottom else 'N/A'\n",
    "    match_score = ev_card_bottom.find('p', class_='RenderItemValue ScoreValueGreaterThanEightyFive').text.strip() if ev_card_bottom else 'N/A'\n",
    "\n",
    "    # Append the extracted data to the list\n",
    "    vehicles_data.append({\n",
    "        'Make': make,\n",
    "        'Model_Version': model_version,\n",
    "        'Electric_Range': electric_range,\n",
    "        'Total_Range': total_range,\n",
    "        'Incentives': incentives,\n",
    "        'MSRP': msrp,\n",
    "        'Match_Score': match_score,\n",
    "        'Vehicle_URL': vehicle_url\n",
    "    })"
   ],
   "id": "411cce271e7df6da"
  },
  {
   "metadata": {
    "ExecuteTime": {
     "end_time": "2024-11-19T16:50:00.899740Z",
     "start_time": "2024-11-19T16:50:00.873695Z"
    }
   },
   "cell_type": "code",
   "outputs": [],
   "execution_count": 26,
   "source": [
    "# Create a DataFrame from the collected data\n",
    "df = pd.DataFrame(vehicles_data)"
   ],
   "id": "7579964a3fc001aa"
  },
  {
   "metadata": {
    "ExecuteTime": {
     "end_time": "2024-11-19T16:50:02.546117Z",
     "start_time": "2024-11-19T16:50:02.534493Z"
    }
   },
   "cell_type": "code",
   "outputs": [
    {
     "data": {
      "text/plain": [
       "Empty DataFrame\n",
       "Columns: []\n",
       "Index: []"
      ],
      "text/html": [
       "<div>\n",
       "<style scoped>\n",
       "    .dataframe tbody tr th:only-of-type {\n",
       "        vertical-align: middle;\n",
       "    }\n",
       "\n",
       "    .dataframe tbody tr th {\n",
       "        vertical-align: top;\n",
       "    }\n",
       "\n",
       "    .dataframe thead th {\n",
       "        text-align: right;\n",
       "    }\n",
       "</style>\n",
       "<table border=\"1\" class=\"dataframe\">\n",
       "  <thead>\n",
       "    <tr style=\"text-align: right;\">\n",
       "      <th></th>\n",
       "    </tr>\n",
       "  </thead>\n",
       "  <tbody>\n",
       "  </tbody>\n",
       "</table>\n",
       "</div>"
      ]
     },
     "execution_count": 27,
     "metadata": {},
     "output_type": "execute_result"
    }
   ],
   "execution_count": 27,
   "source": "df",
   "id": "2300706dff2183e9"
  }
 ],
 "metadata": {
  "kernelspec": {
   "display_name": "Python 3",
   "language": "python",
   "name": "python3"
  },
  "language_info": {
   "codemirror_mode": {
    "name": "ipython",
    "version": 2
   },
   "file_extension": ".py",
   "mimetype": "text/x-python",
   "name": "python",
   "nbconvert_exporter": "python",
   "pygments_lexer": "ipython2",
   "version": "2.7.6"
  }
 },
 "nbformat": 4,
 "nbformat_minor": 5
}
